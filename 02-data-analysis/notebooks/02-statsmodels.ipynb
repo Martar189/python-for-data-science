{
 "cells": [
  {
   "cell_type": "markdown",
   "metadata": {},
   "source": [
    "# Logistic regression using `statsmodels`"
   ]
  },
  {
   "cell_type": "code",
   "execution_count": 1,
   "metadata": {},
   "outputs": [],
   "source": [
    "import numpy as np\n",
    "import pandas as pd\n",
    "import seaborn as sns\n",
    "import statsmodels.api as sm\n",
    "import statsmodels.formula.api as smf\n",
    "\n",
    "%matplotlib inline"
   ]
  },
  {
   "cell_type": "markdown",
   "metadata": {},
   "source": [
    "Read in the [British Crime Survey 2007-2008](https://beta.ukdataservice.ac.uk/datacatalogue/studies/study?id=6561) dataset."
   ]
  },
  {
   "cell_type": "code",
   "execution_count": 2,
   "metadata": {},
   "outputs": [],
   "source": [
    "bcs = pd.read_csv(\"datasets/bcs.csv\")"
   ]
  },
  {
   "cell_type": "code",
   "execution_count": 3,
   "metadata": {},
   "outputs": [
    {
     "data": {
      "text/html": [
       "<div>\n",
       "<style scoped>\n",
       "    .dataframe tbody tr th:only-of-type {\n",
       "        vertical-align: middle;\n",
       "    }\n",
       "\n",
       "    .dataframe tbody tr th {\n",
       "        vertical-align: top;\n",
       "    }\n",
       "\n",
       "    .dataframe thead th {\n",
       "        text-align: right;\n",
       "    }\n",
       "</style>\n",
       "<table border=\"1\" class=\"dataframe\">\n",
       "  <thead>\n",
       "    <tr style=\"text-align: right;\">\n",
       "      <th></th>\n",
       "      <th>case_id</th>\n",
       "      <th>sex</th>\n",
       "      <th>age</th>\n",
       "      <th>marital_status</th>\n",
       "      <th>ethnic_origin</th>\n",
       "      <th>education</th>\n",
       "      <th>paid_work_last_wk</th>\n",
       "      <th>years_in_area</th>\n",
       "      <th>same_address_last_year</th>\n",
       "      <th>tenure</th>\n",
       "      <th>...</th>\n",
       "      <th>worry_rape</th>\n",
       "      <th>worry_assault</th>\n",
       "      <th>worry_insult</th>\n",
       "      <th>worry_racism</th>\n",
       "      <th>crime_change_two_yrs</th>\n",
       "      <th>personal_crime</th>\n",
       "      <th>property_crime</th>\n",
       "      <th>antisocial_behaviour</th>\n",
       "      <th>nuisance_neighbours</th>\n",
       "      <th>victim_last_yr</th>\n",
       "    </tr>\n",
       "  </thead>\n",
       "  <tbody>\n",
       "    <tr>\n",
       "      <th>0</th>\n",
       "      <td>61302140</td>\n",
       "      <td>F</td>\n",
       "      <td>36.0</td>\n",
       "      <td>Married</td>\n",
       "      <td>White</td>\n",
       "      <td>None</td>\n",
       "      <td>True</td>\n",
       "      <td>[10, 20)</td>\n",
       "      <td>NaN</td>\n",
       "      <td>Buying with mortgage/loan</td>\n",
       "      <td>...</td>\n",
       "      <td>Not very worried</td>\n",
       "      <td>Not very worried</td>\n",
       "      <td>Fairly worried</td>\n",
       "      <td>Not very worried</td>\n",
       "      <td>A little more crime</td>\n",
       "      <td>NaN</td>\n",
       "      <td>NaN</td>\n",
       "      <td>1.117700</td>\n",
       "      <td>2.212788</td>\n",
       "      <td>False</td>\n",
       "    </tr>\n",
       "    <tr>\n",
       "      <th>1</th>\n",
       "      <td>61384060</td>\n",
       "      <td>M</td>\n",
       "      <td>44.0</td>\n",
       "      <td>Separated</td>\n",
       "      <td>White</td>\n",
       "      <td>Apprenticeship or A/AS Level</td>\n",
       "      <td>True</td>\n",
       "      <td>[0, 1)</td>\n",
       "      <td>False</td>\n",
       "      <td>Rent</td>\n",
       "      <td>...</td>\n",
       "      <td>Not at all worried</td>\n",
       "      <td>Not very worried</td>\n",
       "      <td>Not very worried</td>\n",
       "      <td>Not very worried</td>\n",
       "      <td>NaN</td>\n",
       "      <td>-0.389274</td>\n",
       "      <td>2.139811</td>\n",
       "      <td>1.791787</td>\n",
       "      <td>-1.024336</td>\n",
       "      <td>False</td>\n",
       "    </tr>\n",
       "    <tr>\n",
       "      <th>2</th>\n",
       "      <td>63684260</td>\n",
       "      <td>M</td>\n",
       "      <td>43.0</td>\n",
       "      <td>Married</td>\n",
       "      <td>White</td>\n",
       "      <td>O Level / GCSE</td>\n",
       "      <td>True</td>\n",
       "      <td>[2, 3)</td>\n",
       "      <td>NaN</td>\n",
       "      <td>Buying with mortgage/loan</td>\n",
       "      <td>...</td>\n",
       "      <td>Not at all worried</td>\n",
       "      <td>Not very worried</td>\n",
       "      <td>Not very worried</td>\n",
       "      <td>Not very worried</td>\n",
       "      <td>NaN</td>\n",
       "      <td>-0.320777</td>\n",
       "      <td>0.506092</td>\n",
       "      <td>NaN</td>\n",
       "      <td>NaN</td>\n",
       "      <td>True</td>\n",
       "    </tr>\n",
       "    <tr>\n",
       "      <th>3</th>\n",
       "      <td>63790220</td>\n",
       "      <td>F</td>\n",
       "      <td>27.0</td>\n",
       "      <td>Single</td>\n",
       "      <td>Black or Black British</td>\n",
       "      <td>Apprenticeship or A/AS Level</td>\n",
       "      <td>True</td>\n",
       "      <td>[0, 1)</td>\n",
       "      <td>False</td>\n",
       "      <td>Rent</td>\n",
       "      <td>...</td>\n",
       "      <td>Fairly worried</td>\n",
       "      <td>Fairly worried</td>\n",
       "      <td>Not very worried</td>\n",
       "      <td>Not very worried</td>\n",
       "      <td>NaN</td>\n",
       "      <td>0.464605</td>\n",
       "      <td>1.602307</td>\n",
       "      <td>0.462970</td>\n",
       "      <td>0.822929</td>\n",
       "      <td>True</td>\n",
       "    </tr>\n",
       "    <tr>\n",
       "      <th>4</th>\n",
       "      <td>63843180</td>\n",
       "      <td>M</td>\n",
       "      <td>38.0</td>\n",
       "      <td>Married</td>\n",
       "      <td>White</td>\n",
       "      <td>Degree or Diploma</td>\n",
       "      <td>True</td>\n",
       "      <td>[10, 20)</td>\n",
       "      <td>NaN</td>\n",
       "      <td>Buying with mortgage/loan</td>\n",
       "      <td>...</td>\n",
       "      <td>Not at all worried</td>\n",
       "      <td>Not very worried</td>\n",
       "      <td>Not very worried</td>\n",
       "      <td>Not very worried</td>\n",
       "      <td>A lot more crime</td>\n",
       "      <td>-0.117556</td>\n",
       "      <td>-0.657555</td>\n",
       "      <td>0.137419</td>\n",
       "      <td>-0.780199</td>\n",
       "      <td>True</td>\n",
       "    </tr>\n",
       "  </tbody>\n",
       "</table>\n",
       "<p>5 rows × 33 columns</p>\n",
       "</div>"
      ],
      "text/plain": [
       "    case_id sex   age marital_status           ethnic_origin  \\\n",
       "0  61302140   F  36.0        Married                   White   \n",
       "1  61384060   M  44.0      Separated                   White   \n",
       "2  63684260   M  43.0        Married                   White   \n",
       "3  63790220   F  27.0         Single  Black or Black British   \n",
       "4  63843180   M  38.0        Married                   White   \n",
       "\n",
       "                      education paid_work_last_wk years_in_area  \\\n",
       "0                          None              True      [10, 20)   \n",
       "1  Apprenticeship or A/AS Level              True        [0, 1)   \n",
       "2                O Level / GCSE              True        [2, 3)   \n",
       "3  Apprenticeship or A/AS Level              True        [0, 1)   \n",
       "4             Degree or Diploma              True      [10, 20)   \n",
       "\n",
       "  same_address_last_year                     tenure      ...        \\\n",
       "0                    NaN  Buying with mortgage/loan      ...         \n",
       "1                  False                       Rent      ...         \n",
       "2                    NaN  Buying with mortgage/loan      ...         \n",
       "3                  False                       Rent      ...         \n",
       "4                    NaN  Buying with mortgage/loan      ...         \n",
       "\n",
       "           worry_rape     worry_assault      worry_insult      worry_racism  \\\n",
       "0    Not very worried  Not very worried    Fairly worried  Not very worried   \n",
       "1  Not at all worried  Not very worried  Not very worried  Not very worried   \n",
       "2  Not at all worried  Not very worried  Not very worried  Not very worried   \n",
       "3      Fairly worried    Fairly worried  Not very worried  Not very worried   \n",
       "4  Not at all worried  Not very worried  Not very worried  Not very worried   \n",
       "\n",
       "   crime_change_two_yrs personal_crime property_crime antisocial_behaviour  \\\n",
       "0   A little more crime            NaN            NaN             1.117700   \n",
       "1                   NaN      -0.389274       2.139811             1.791787   \n",
       "2                   NaN      -0.320777       0.506092                  NaN   \n",
       "3                   NaN       0.464605       1.602307             0.462970   \n",
       "4      A lot more crime      -0.117556      -0.657555             0.137419   \n",
       "\n",
       "  nuisance_neighbours victim_last_yr  \n",
       "0            2.212788          False  \n",
       "1           -1.024336          False  \n",
       "2                 NaN           True  \n",
       "3            0.822929           True  \n",
       "4           -0.780199           True  \n",
       "\n",
       "[5 rows x 33 columns]"
      ]
     },
     "execution_count": 3,
     "metadata": {},
     "output_type": "execute_result"
    }
   ],
   "source": [
    "bcs.head()"
   ]
  },
  {
   "cell_type": "markdown",
   "metadata": {},
   "source": [
    "Define predictors and response."
   ]
  },
  {
   "cell_type": "code",
   "execution_count": 4,
   "metadata": {},
   "outputs": [],
   "source": [
    "predictors = [\"sex\", \"age\", \"safety_walk_night\"]\n",
    "response = \"victim_last_yr\"\n",
    "all_vars = predictors + [response]"
   ]
  },
  {
   "cell_type": "markdown",
   "metadata": {},
   "source": [
    "Remove missing values."
   ]
  },
  {
   "cell_type": "code",
   "execution_count": 5,
   "metadata": {},
   "outputs": [],
   "source": [
    "bcs.dropna(subset=all_vars, inplace=True)"
   ]
  },
  {
   "cell_type": "markdown",
   "metadata": {},
   "source": [
    "## EDA"
   ]
  },
  {
   "cell_type": "code",
   "execution_count": 6,
   "metadata": {},
   "outputs": [
    {
     "data": {
      "text/plain": [
       "<matplotlib.axes._subplots.AxesSubplot at 0x7f2ec4619ac8>"
      ]
     },
     "execution_count": 6,
     "metadata": {},
     "output_type": "execute_result"
    },
    {
     "data": {
      "image/png": "[encoded data removed]",
      "text/plain": [
       "<Figure size 432x288 with 1 Axes>"
      ]
     },
     "metadata": {
      "needs_background": "light"
     },
     "output_type": "display_data"
    }
   ],
   "source": [
    "sns.boxplot(x=\"victim_last_yr\", y=\"age\", data=bcs)"
   ]
  },
  {
   "cell_type": "code",
   "execution_count": 7,
   "metadata": {},
   "outputs": [
    {
     "data": {
      "text/plain": [
       "<matplotlib.axes._subplots.AxesSubplot at 0x7f2ec40eec50>"
      ]
     },
     "execution_count": 7,
     "metadata": {},
     "output_type": "execute_result"
    },
    {
     "data": {
      "image/png": "[encoded data removed]",
      "text/plain": [
       "<Figure size 432x288 with 1 Axes>"
      ]
     },
     "metadata": {
      "needs_background": "light"
     },
     "output_type": "display_data"
    }
   ],
   "source": [
    "bcs.groupby(\"safety_walk_night\")[\"victim_last_yr\"].mean().plot.bar(color=\"darkblue\")"
   ]
  },
  {
   "cell_type": "markdown",
   "metadata": {},
   "source": [
    "## Logistic regression"
   ]
  },
  {
   "cell_type": "code",
   "execution_count": 8,
   "metadata": {},
   "outputs": [],
   "source": [
    "bcs[\"victim_last_yr\"] = bcs[\"victim_last_yr\"].astype(int)  # Recode as 0/1"
   ]
  },
  {
   "cell_type": "code",
   "execution_count": 9,
   "metadata": {},
   "outputs": [],
   "source": [
    "model = smf.glm(\n",
    "    \"victim_last_yr ~ C(sex, Treatment(reference='M')) + age + C(safety_walk_night, Treatment(reference='Very safe'))\",\n",
    "    data=bcs,\n",
    "    family=sm.families.Binomial()\n",
    ").fit()"
   ]
  },
  {
   "cell_type": "code",
   "execution_count": 10,
   "metadata": {},
   "outputs": [
    {
     "data": {
      "text/html": [
       "<table class=\"simpletable\">\n",
       "<caption>Generalized Linear Model Regression Results</caption>\n",
       "<tr>\n",
       "  <th>Dep. Variable:</th>   <td>victim_last_yr</td>  <th>  No. Observations:  </th>  <td> 11610</td>  \n",
       "</tr>\n",
       "<tr>\n",
       "  <th>Model:</th>                 <td>GLM</td>       <th>  Df Residuals:      </th>  <td> 11604</td>  \n",
       "</tr>\n",
       "<tr>\n",
       "  <th>Model Family:</th>       <td>Binomial</td>     <th>  Df Model:          </th>  <td>     5</td>  \n",
       "</tr>\n",
       "<tr>\n",
       "  <th>Link Function:</th>        <td>logit</td>      <th>  Scale:             </th> <td>  1.0000</td> \n",
       "</tr>\n",
       "<tr>\n",
       "  <th>Method:</th>               <td>IRLS</td>       <th>  Log-Likelihood:    </th> <td> -5550.0</td> \n",
       "</tr>\n",
       "<tr>\n",
       "  <th>Date:</th>           <td>Wed, 30 Jan 2019</td> <th>  Deviance:          </th> <td>  11100.</td> \n",
       "</tr>\n",
       "<tr>\n",
       "  <th>Time:</th>               <td>08:49:25</td>     <th>  Pearson chi2:      </th> <td>1.15e+04</td> \n",
       "</tr>\n",
       "<tr>\n",
       "  <th>No. Iterations:</th>         <td>5</td>        <th>  Covariance Type:   </th> <td>nonrobust</td>\n",
       "</tr>\n",
       "</table>\n",
       "<table class=\"simpletable\">\n",
       "<tr>\n",
       "                                     <td></td>                                       <th>coef</th>     <th>std err</th>      <th>z</th>      <th>P>|z|</th>  <th>[0.025</th>    <th>0.975]</th>  \n",
       "</tr>\n",
       "<tr>\n",
       "  <th>Intercept</th>                                                              <td>   -0.1315</td> <td>    0.079</td> <td>   -1.666</td> <td> 0.096</td> <td>   -0.286</td> <td>    0.023</td>\n",
       "</tr>\n",
       "<tr>\n",
       "  <th>C(sex, Treatment(reference='M'))[T.F]</th>                                  <td>   -0.1883</td> <td>    0.051</td> <td>   -3.704</td> <td> 0.000</td> <td>   -0.288</td> <td>   -0.089</td>\n",
       "</tr>\n",
       "<tr>\n",
       "  <th>C(safety_walk_night, Treatment(reference='Very safe'))[T.A bit unsafe]</th> <td>    0.6191</td> <td>    0.072</td> <td>    8.657</td> <td> 0.000</td> <td>    0.479</td> <td>    0.759</td>\n",
       "</tr>\n",
       "<tr>\n",
       "  <th>C(safety_walk_night, Treatment(reference='Very safe'))[T.Fairly safe]</th>  <td>    0.2184</td> <td>    0.063</td> <td>    3.456</td> <td> 0.001</td> <td>    0.095</td> <td>    0.342</td>\n",
       "</tr>\n",
       "<tr>\n",
       "  <th>C(safety_walk_night, Treatment(reference='Very safe'))[T.Very unsafe]</th>  <td>    0.7749</td> <td>    0.089</td> <td>    8.680</td> <td> 0.000</td> <td>    0.600</td> <td>    0.950</td>\n",
       "</tr>\n",
       "<tr>\n",
       "  <th>age</th>                                                                    <td>   -0.0308</td> <td>    0.001</td> <td>  -22.432</td> <td> 0.000</td> <td>   -0.033</td> <td>   -0.028</td>\n",
       "</tr>\n",
       "</table>"
      ],
      "text/plain": [
       "<class 'statsmodels.iolib.summary.Summary'>\n",
       "\"\"\"\n",
       "                 Generalized Linear Model Regression Results                  \n",
       "==============================================================================\n",
       "Dep. Variable:         victim_last_yr   No. Observations:                11610\n",
       "Model:                            GLM   Df Residuals:                    11604\n",
       "Model Family:                Binomial   Df Model:                            5\n",
       "Link Function:                  logit   Scale:                          1.0000\n",
       "Method:                          IRLS   Log-Likelihood:                -5550.0\n",
       "Date:                Wed, 30 Jan 2019   Deviance:                       11100.\n",
       "Time:                        08:49:25   Pearson chi2:                 1.15e+04\n",
       "No. Iterations:                     5   Covariance Type:             nonrobust\n",
       "==========================================================================================================================================\n",
       "                                                                             coef    std err          z      P>|z|      [0.025      0.975]\n",
       "------------------------------------------------------------------------------------------------------------------------------------------\n",
       "Intercept                                                                 -0.1315      0.079     -1.666      0.096      -0.286       0.023\n",
       "C(sex, Treatment(reference='M'))[T.F]                                     -0.1883      0.051     -3.704      0.000      -0.288      -0.089\n",
       "C(safety_walk_night, Treatment(reference='Very safe'))[T.A bit unsafe]     0.6191      0.072      8.657      0.000       0.479       0.759\n",
       "C(safety_walk_night, Treatment(reference='Very safe'))[T.Fairly safe]      0.2184      0.063      3.456      0.001       0.095       0.342\n",
       "C(safety_walk_night, Treatment(reference='Very safe'))[T.Very unsafe]      0.7749      0.089      8.680      0.000       0.600       0.950\n",
       "age                                                                       -0.0308      0.001    -22.432      0.000      -0.033      -0.028\n",
       "==========================================================================================================================================\n",
       "\"\"\""
      ]
     },
     "execution_count": 10,
     "metadata": {},
     "output_type": "execute_result"
    }
   ],
   "source": [
    "model.summary()"
   ]
  },
  {
   "cell_type": "code",
   "execution_count": 11,
   "metadata": {},
   "outputs": [
    {
     "data": {
      "text/plain": [
       "Intercept                                                                 0.876819\n",
       "C(sex, Treatment(reference='M'))[T.F]                                     0.828330\n",
       "C(safety_walk_night, Treatment(reference='Very safe'))[T.A bit unsafe]    1.857319\n",
       "C(safety_walk_night, Treatment(reference='Very safe'))[T.Fairly safe]     1.244052\n",
       "C(safety_walk_night, Treatment(reference='Very safe'))[T.Very unsafe]     2.170337\n",
       "age                                                                       0.969700\n",
       "dtype: float64"
      ]
     },
     "execution_count": 11,
     "metadata": {},
     "output_type": "execute_result"
    }
   ],
   "source": [
    "np.exp(model.params)"
   ]
  },
  {
   "cell_type": "code",
   "execution_count": 12,
   "metadata": {},
   "outputs": [
    {
     "data": {
      "text/html": [
       "<div>\n",
       "<style scoped>\n",
       "    .dataframe tbody tr th:only-of-type {\n",
       "        vertical-align: middle;\n",
       "    }\n",
       "\n",
       "    .dataframe tbody tr th {\n",
       "        vertical-align: top;\n",
       "    }\n",
       "\n",
       "    .dataframe thead th {\n",
       "        text-align: right;\n",
       "    }\n",
       "</style>\n",
       "<table border=\"1\" class=\"dataframe\">\n",
       "  <thead>\n",
       "    <tr style=\"text-align: right;\">\n",
       "      <th></th>\n",
       "      <th>0</th>\n",
       "      <th>1</th>\n",
       "    </tr>\n",
       "  </thead>\n",
       "  <tbody>\n",
       "    <tr>\n",
       "      <th>Intercept</th>\n",
       "      <td>0.751161</td>\n",
       "      <td>1.023499</td>\n",
       "    </tr>\n",
       "    <tr>\n",
       "      <th>C(sex, Treatment(reference='M'))[T.F]</th>\n",
       "      <td>0.749761</td>\n",
       "      <td>0.915132</td>\n",
       "    </tr>\n",
       "    <tr>\n",
       "      <th>C(safety_walk_night, Treatment(reference='Very safe'))[T.A bit unsafe]</th>\n",
       "      <td>1.614393</td>\n",
       "      <td>2.136799</td>\n",
       "    </tr>\n",
       "    <tr>\n",
       "      <th>C(safety_walk_night, Treatment(reference='Very safe'))[T.Fairly safe]</th>\n",
       "      <td>1.099151</td>\n",
       "      <td>1.408054</td>\n",
       "    </tr>\n",
       "    <tr>\n",
       "      <th>C(safety_walk_night, Treatment(reference='Very safe'))[T.Very unsafe]</th>\n",
       "      <td>1.821952</td>\n",
       "      <td>2.585338</td>\n",
       "    </tr>\n",
       "    <tr>\n",
       "      <th>age</th>\n",
       "      <td>0.967096</td>\n",
       "      <td>0.972310</td>\n",
       "    </tr>\n",
       "  </tbody>\n",
       "</table>\n",
       "</div>"
      ],
      "text/plain": [
       "                                                           0         1\n",
       "Intercept                                           0.751161  1.023499\n",
       "C(sex, Treatment(reference='M'))[T.F]               0.749761  0.915132\n",
       "C(safety_walk_night, Treatment(reference='Very ...  1.614393  2.136799\n",
       "C(safety_walk_night, Treatment(reference='Very ...  1.099151  1.408054\n",
       "C(safety_walk_night, Treatment(reference='Very ...  1.821952  2.585338\n",
       "age                                                 0.967096  0.972310"
      ]
     },
     "execution_count": 12,
     "metadata": {},
     "output_type": "execute_result"
    }
   ],
   "source": [
    "np.exp(model.conf_int())"
   ]
  },
  {
   "cell_type": "code",
   "execution_count": 13,
   "metadata": {},
   "outputs": [
    {
     "data": {
      "text/plain": [
       "Intercept                                                                  9.578223e-02\n",
       "C(sex, Treatment(reference='M'))[T.F]                                      2.120706e-04\n",
       "C(safety_walk_night, Treatment(reference='Very safe'))[T.A bit unsafe]     4.847630e-18\n",
       "C(safety_walk_night, Treatment(reference='Very safe'))[T.Fairly safe]      5.477788e-04\n",
       "C(safety_walk_night, Treatment(reference='Very safe'))[T.Very unsafe]      3.964205e-18\n",
       "age                                                                       1.918834e-111\n",
       "dtype: float64"
      ]
     },
     "execution_count": 13,
     "metadata": {},
     "output_type": "execute_result"
    }
   ],
   "source": [
    "model.pvalues"
   ]
  }
 ],
 "metadata": {
  "kernelspec": {
   "display_name": "Python 3",
   "language": "python",
   "name": "python3"
  },
  "language_info": {
   "codemirror_mode": {
    "name": "ipython",
    "version": 3
   },
   "file_extension": ".py",
   "mimetype": "text/x-python",
   "name": "python",
   "nbconvert_exporter": "python",
   "pygments_lexer": "ipython3",
   "version": "3.7.1"
  }
 },
 "nbformat": 4,
 "nbformat_minor": 2
}
