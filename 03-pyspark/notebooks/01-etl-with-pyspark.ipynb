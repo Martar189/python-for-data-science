{
 "cells": [
  {
   "cell_type": "markdown",
   "metadata": {},
   "source": [
    "# ETL with PySpark"
   ]
  },
  {
   "cell_type": "markdown",
   "metadata": {},
   "source": [
    "[PySpark](https://spark.apache.org/docs/latest/api/python/) is the Python interface to the analytics engine [Spark](https://spark.apache.org/).\n",
    "Like `pandas`, it organises data using `DataFrame`s and provides tools to analyse and visualise them."
   ]
  },
  {
   "cell_type": "code",
   "execution_count": 1,
   "metadata": {},
   "outputs": [],
   "source": [
    "from pyspark.sql import functions as F, types as T, SparkSession"
   ]
  },
  {
   "cell_type": "markdown",
   "metadata": {},
   "source": [
    "Before we can use PySpark, we need to initialise a new `SparkSession` which is used to create and interact with `DataFrame`s."
   ]
  },
  {
   "cell_type": "code",
   "execution_count": 2,
   "metadata": {},
   "outputs": [],
   "source": [
    "spark = SparkSession.builder\\\n",
    "        .appName(\"ETL with Spark\")\\\n",
    "        .getOrCreate()"
   ]
  },
  {
   "cell_type": "markdown",
   "metadata": {},
   "source": [
    "We'll use PySpark to explore the [student performance data](https://archive.ics.uci.edu/ml/datasets/Student+Performance) made available by Paulo Cortez.\n",
    "We start by loading the data."
   ]
  },
  {
   "cell_type": "code",
   "execution_count": 3,
   "metadata": {},
   "outputs": [],
   "source": [
    "students = spark.read\\\n",
    "           .option(\"header\", True)\\\n",
    "           .option(\"inferSchema\", True)\\\n",
    "           .csv(\"datasets/student_performance.csv\")"
   ]
  },
  {
   "cell_type": "markdown",
   "metadata": {},
   "source": [
    "Spark `DataFrame`s share many similarities with `pandas` `DataFrame`s such as the `columns` and `dtypes` attributes."
   ]
  },
  {
   "cell_type": "code",
   "execution_count": 4,
   "metadata": {},
   "outputs": [
    {
     "data": {
      "text/plain": [
       "['school',\n",
       " 'sex',\n",
       " 'age',\n",
       " 'home_area',\n",
       " 'family_size',\n",
       " 'parents_cohabit',\n",
       " 'education_mother',\n",
       " 'education_father',\n",
       " 'occupation_mother',\n",
       " 'occupation_father',\n",
       " 'reason',\n",
       " 'guardian',\n",
       " 'travel_time',\n",
       " 'study_time',\n",
       " 'failures',\n",
       " 'extra_school_support',\n",
       " 'family_support',\n",
       " 'extra_tutoring',\n",
       " 'extracurricular_activities',\n",
       " 'nursery',\n",
       " 'higher_education',\n",
       " 'internet_access',\n",
       " 'romantic_relationship',\n",
       " 'family_relationships_quality',\n",
       " 'free_time',\n",
       " 'going_out',\n",
       " 'alcohol_weekdays',\n",
       " 'alcohol_weekend',\n",
       " 'health_status',\n",
       " 'absences',\n",
       " 'final_grade']"
      ]
     },
     "execution_count": 4,
     "metadata": {},
     "output_type": "execute_result"
    }
   ],
   "source": [
    "students.columns"
   ]
  },
  {
   "cell_type": "code",
   "execution_count": 5,
   "metadata": {},
   "outputs": [
    {
     "data": {
      "text/plain": [
       "[('school', 'string'),\n",
       " ('sex', 'string'),\n",
       " ('age', 'int'),\n",
       " ('home_area', 'string'),\n",
       " ('family_size', 'string'),\n",
       " ('parents_cohabit', 'boolean'),\n",
       " ('education_mother', 'string'),\n",
       " ('education_father', 'string'),\n",
       " ('occupation_mother', 'string'),\n",
       " ('occupation_father', 'string'),\n",
       " ('reason', 'string'),\n",
       " ('guardian', 'string'),\n",
       " ('travel_time', 'string'),\n",
       " ('study_time', 'string'),\n",
       " ('failures', 'string'),\n",
       " ('extra_school_support', 'boolean'),\n",
       " ('family_support', 'boolean'),\n",
       " ('extra_tutoring', 'boolean'),\n",
       " ('extracurricular_activities', 'boolean'),\n",
       " ('nursery', 'boolean'),\n",
       " ('higher_education', 'boolean'),\n",
       " ('internet_access', 'boolean'),\n",
       " ('romantic_relationship', 'boolean'),\n",
       " ('family_relationships_quality', 'int'),\n",
       " ('free_time', 'int'),\n",
       " ('going_out', 'int'),\n",
       " ('alcohol_weekdays', 'int'),\n",
       " ('alcohol_weekend', 'int'),\n",
       " ('health_status', 'int'),\n",
       " ('absences', 'int'),\n",
       " ('final_grade', 'int')]"
      ]
     },
     "execution_count": 5,
     "metadata": {},
     "output_type": "execute_result"
    }
   ],
   "source": [
    "students.dtypes"
   ]
  },
  {
   "cell_type": "markdown",
   "metadata": {},
   "source": [
    "One important difference is that Spark often uses **lazy evaluation**.\n",
    "This means that commands will return immediately but won't execute unless an action is triggered.\n",
    "\n",
    "For example, the number of rows in our `DataFrame` is computed only when required."
   ]
  },
  {
   "cell_type": "code",
   "execution_count": 6,
   "metadata": {},
   "outputs": [
    {
     "data": {
      "text/plain": [
       "649"
      ]
     },
     "execution_count": 6,
     "metadata": {},
     "output_type": "execute_result"
    }
   ],
   "source": [
    "students.count()"
   ]
  },
  {
   "cell_type": "markdown",
   "metadata": {},
   "source": [
    "## Selecting rows and columns"
   ]
  },
  {
   "cell_type": "markdown",
   "metadata": {},
   "source": [
    "### Selecting rows"
   ]
  },
  {
   "cell_type": "markdown",
   "metadata": {},
   "source": [
    "You can select rows that satisfy certain conditions using `filter`."
   ]
  },
  {
   "cell_type": "code",
   "execution_count": 7,
   "metadata": {},
   "outputs": [
    {
     "data": {
      "text/plain": [
       "266"
      ]
     },
     "execution_count": 7,
     "metadata": {},
     "output_type": "execute_result"
    }
   ],
   "source": [
    "students.filter(F.col(\"sex\") == \"M\").count()"
   ]
  },
  {
   "cell_type": "markdown",
   "metadata": {},
   "source": [
    "Multiple conditions can be combined using logical operators."
   ]
  },
  {
   "cell_type": "code",
   "execution_count": 8,
   "metadata": {},
   "outputs": [
    {
     "data": {
      "text/plain": [
       "73"
      ]
     },
     "execution_count": 8,
     "metadata": {},
     "output_type": "execute_result"
    }
   ],
   "source": [
    "students.filter(\n",
    "    (F.col(\"sex\") == \"M\") &\n",
    "    (F.col(\"age\") >= 18)\n",
    ").count()"
   ]
  },
  {
   "cell_type": "markdown",
   "metadata": {},
   "source": [
    "### Selecting columns"
   ]
  },
  {
   "cell_type": "markdown",
   "metadata": {},
   "source": [
    "You can select specific columns by name using `select`."
   ]
  },
  {
   "cell_type": "code",
   "execution_count": 9,
   "metadata": {},
   "outputs": [
    {
     "name": "stdout",
     "output_type": "stream",
     "text": [
      "+---------------+---+---+\n",
      "|         school|sex|age|\n",
      "+---------------+---+---+\n",
      "|Gabriel Pereira|  F| 18|\n",
      "|Gabriel Pereira|  F| 17|\n",
      "|Gabriel Pereira|  F| 15|\n",
      "|Gabriel Pereira|  F| 15|\n",
      "|Gabriel Pereira|  F| 16|\n",
      "+---------------+---+---+\n",
      "only showing top 5 rows\n",
      "\n"
     ]
    }
   ],
   "source": [
    "students.select(F.col(\"school\"), F.col(\"sex\"), F.col(\"age\")).show(5)"
   ]
  },
  {
   "cell_type": "markdown",
   "metadata": {},
   "source": [
    "### Selecting rows and columns simultaneously"
   ]
  },
  {
   "cell_type": "markdown",
   "metadata": {},
   "source": [
    "The functions `filter` and `select` can be combined to simultaneously select rows and columns."
   ]
  },
  {
   "cell_type": "code",
   "execution_count": 10,
   "metadata": {},
   "outputs": [
    {
     "name": "stdout",
     "output_type": "stream",
     "text": [
      "+---------------+---+\n",
      "|         school|age|\n",
      "+---------------+---+\n",
      "|Gabriel Pereira| 16|\n",
      "|Gabriel Pereira| 16|\n",
      "|Gabriel Pereira| 15|\n",
      "|Gabriel Pereira| 15|\n",
      "|Gabriel Pereira| 15|\n",
      "+---------------+---+\n",
      "only showing top 5 rows\n",
      "\n"
     ]
    }
   ],
   "source": [
    "students.select(F.col(\"school\"), F.col(\"age\"))\\\n",
    "        .filter(F.col(\"sex\") == \"M\")\\\n",
    "        .show(5)"
   ]
  },
  {
   "cell_type": "markdown",
   "metadata": {},
   "source": [
    "### Using the Spark SQL interface"
   ]
  },
  {
   "cell_type": "markdown",
   "metadata": {},
   "source": [
    "Alternatively, you can register the `DataFrame` as a temporary view and issue [Spark SQL](https://spark.apache.org/docs/latest/api/sql/) queries using `sql`."
   ]
  },
  {
   "cell_type": "code",
   "execution_count": 11,
   "metadata": {},
   "outputs": [],
   "source": [
    "students.createOrReplaceTempView(\"students\")"
   ]
  },
  {
   "cell_type": "code",
   "execution_count": 12,
   "metadata": {},
   "outputs": [
    {
     "name": "stdout",
     "output_type": "stream",
     "text": [
      "+---------------+---+\n",
      "|         school|age|\n",
      "+---------------+---+\n",
      "|Gabriel Pereira| 16|\n",
      "|Gabriel Pereira| 16|\n",
      "|Gabriel Pereira| 15|\n",
      "|Gabriel Pereira| 15|\n",
      "|Gabriel Pereira| 15|\n",
      "+---------------+---+\n",
      "only showing top 5 rows\n",
      "\n"
     ]
    }
   ],
   "source": [
    "spark.sql(\"\"\"\n",
    "    SELECT school, age\n",
    "    FROM students\n",
    "    WHERE sex = 'M'\n",
    "\"\"\").show(5)"
   ]
  },
  {
   "cell_type": "markdown",
   "metadata": {},
   "source": [
    "## Split-apply-combine"
   ]
  },
  {
   "cell_type": "markdown",
   "metadata": {},
   "source": [
    "Most transformations in Spark are achieved using the split-apply-combine paradigm provided by `groupBy`:\n",
    "\n",
    "1. First, observations are split into groups defined by one or more categorical variables\n",
    "1. Then, a summary function such as `mean()` is applied within each group independently\n",
    "1. Finally, results are combined back into a `DataFrame`\n",
    "\n",
    "![Split-apply-combine](http://i.imgur.com/yjNkiwL.png)"
   ]
  },
  {
   "cell_type": "code",
   "execution_count": 13,
   "metadata": {},
   "outputs": [
    {
     "name": "stdout",
     "output_type": "stream",
     "text": [
      "+--------------------+-------------------+------------------+\n",
      "|              school|            pct_men|           avg_age|\n",
      "+--------------------+-------------------+------------------+\n",
      "|Mouzinho da Silveira|0.35398230088495575| 16.88938053097345|\n",
      "|     Gabriel Pereira| 0.4397163120567376|16.666666666666668|\n",
      "+--------------------+-------------------+------------------+\n",
      "\n"
     ]
    }
   ],
   "source": [
    "students.groupBy(F.col(\"school\"))\\\n",
    "        .agg(F.avg((F.col('sex') == \"M\").cast(T.IntegerType())).alias(\"pct_men\"),\n",
    "             F.avg(F.col(\"age\")).alias(\"avg_age\"))\\\n",
    "        .show()"
   ]
  },
  {
   "cell_type": "code",
   "execution_count": 14,
   "metadata": {},
   "outputs": [
    {
     "name": "stdout",
     "output_type": "stream",
     "text": [
      "+--------------------+-------------------+------------------+\n",
      "|              school|            pct_men|           avg_age|\n",
      "+--------------------+-------------------+------------------+\n",
      "|Mouzinho da Silveira|0.35398230088495575| 16.88938053097345|\n",
      "|     Gabriel Pereira| 0.4397163120567376|16.666666666666668|\n",
      "+--------------------+-------------------+------------------+\n",
      "\n"
     ]
    }
   ],
   "source": [
    "spark.sql(\"\"\"\n",
    "    SELECT\n",
    "        school,\n",
    "        AVG(CAST(sex = 'M' AS int)) AS pct_men,\n",
    "        AVG(age) AS avg_age\n",
    "    FROM students\n",
    "    GROUP BY school\n",
    "\"\"\").show()"
   ]
  }
 ],
 "metadata": {
  "kernelspec": {
   "display_name": "Python 3",
   "language": "python",
   "name": "python3"
  },
  "language_info": {
   "codemirror_mode": {
    "name": "ipython",
    "version": 3
   },
   "file_extension": ".py",
   "mimetype": "text/x-python",
   "name": "python",
   "nbconvert_exporter": "python",
   "pygments_lexer": "ipython3",
   "version": "3.7.1"
  }
 },
 "nbformat": 4,
 "nbformat_minor": 2
}
